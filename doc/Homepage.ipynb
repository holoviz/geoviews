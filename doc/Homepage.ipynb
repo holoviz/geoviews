{
 "cells": [
  {
   "cell_type": "markdown",
   "metadata": {},
   "source": [
    "GeoViews is a [Python](http://python.org) library that makes it easy to explore and visualize geographical, meteorological, and oceanographic datasets, such as those used in weather, climate, and remote sensing research.  \n",
    "\n",
    "GeoViews is built on the [HoloViews](http://holoviews.org) library for building flexible visualizations of multidimensional data.  GeoViews adds a family of geographic plot types based on the [Cartopy](http://scitools.org.uk/cartopy) library, plotted using either the [Matplotlib](http://matplotlib.org) or [Bokeh](http://bokeh.pydata.org) packages.  Each of the new `GeoElement` plot types is a new HoloViews `Element` that has an associated geographic projection based on `cartopy.crs`. The `GeoElements` currently include `Feature`, `WMTS`, `Tiles`, `Points`, `Contours`, `Image`, `QuadMesh`, `TriMesh`, `RGB`, `HSV`, `Labels`, `Graph`, `HexTiles`, `VectorField` and `Text` objects, each of which can easily be overlaid in the same plots.  E.g. an object with temperature data can be overlaid with coastline data using an expression like ``gv.Image(temperature) * gv.Feature(cartopy.feature.COASTLINE)``.  Each `GeoElement` can also be freely combined in layouts with any other HoloViews `Element`, making it simple to make even complex multi-figure layouts of overlaid objects.\n",
    "\n",
    "With GeoViews, you can now work easily and naturally with large, multidimensional geographic datasets, instantly visualizing any subset or combination of them, while always being able to access the raw data underlying any plot.  Here's a simple example:"
   ]
  },
  {
   "cell_type": "code",
   "execution_count": null,
   "metadata": {
    "collapsed": false
   },
   "outputs": [],
   "source": [
    "import holoviews as hv\n",
    "import geoviews as gv\n",
    "import geoviews.feature as gf\n",
    "import xarray as xr\n",
    "from cartopy import crs\n",
    "\n",
    "hv.extension('matplotlib', 'bokeh')"
   ]
  },
  {
   "cell_type": "code",
   "execution_count": null,
   "metadata": {
    "collapsed": false
   },
   "outputs": [],
   "source": [
    "%%opts Feature [projection=crs.Geostationary()]\n",
    "(gf.ocean + gf.land + gf.ocean * gf.land * gf.coastline * gf.borders).cols(3)"
   ]
  },
  {
   "cell_type": "markdown",
   "metadata": {},
   "source": [
    "GeoViews is designed to work well with the [Iris](http://scitools.org.uk/iris) and [xarray](http://xarray.pydata.org)  libraries for working with multidimensional arrays, such as those stored in netCDF files.  GeoViews also accepts data as NumPy arrays and Pandas data frames.  In each case, the data can be left stored in its original, native format, wrapped in a HoloViews or GeoViews object that provides instant interactive visualizations.\n",
    "\n",
    "The following example loads a dataset originally taken from [iris-sample-data](https://github.com/SciTools/iris-sample-data) and quickly builds an interactive tool for exploring how the data changes over time:"
   ]
  },
  {
   "cell_type": "code",
   "execution_count": null,
   "metadata": {
    "collapsed": false
   },
   "outputs": [],
   "source": [
    "dataset = gv.Dataset(xr.open_dataset('./sample-data/ensemble.nc'))\n",
    "dataset.to(gv.Image, ['longitude', 'latitude']).options(cmap='viridis', colorbar=True, fig_size=200) * gf.coastline()"
   ]
  },
  {
   "cell_type": "markdown",
   "metadata": {},
   "source": [
    "GeoViews also natively supports geopandas datastructures allowing us to easily plot shapefiles and choropleths:"
   ]
  },
  {
   "cell_type": "code",
   "execution_count": null,
   "metadata": {},
   "outputs": [],
   "source": [
    "%%output backend='bokeh'\n",
    "import geopandas as gpd\n",
    "gv.Polygons(gpd.read_file(gpd.datasets.get_path('naturalearth_lowres')), vdims='pop_est').options(\n",
    "    tools=['hover'], height=500, width=500\n",
    ")"
   ]
  }
 ],
 "metadata": {
  "hide_input": false,
  "kernelspec": {
   "display_name": "Python 2",
   "language": "python",
   "name": "python2"
  },
  "widgets": {
   "state": {},
   "version": "1.1.2"
  }
 },
 "nbformat": 4,
 "nbformat_minor": 0
}
