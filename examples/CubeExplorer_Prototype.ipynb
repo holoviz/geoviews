{
 "cells": [
  {
   "cell_type": "markdown",
   "metadata": {},
   "source": [
    "This is an initial prototype for the cube-explorer project to integrate Iris, Cartopy and HoloViews to allow easily exploring Iris Cubes of N-dimensional gridded data."
   ]
  },
  {
   "cell_type": "markdown",
   "metadata": {},
   "source": [
    "For now we've called the library that interfaces between Iris/Cartopy and HoloViews ``geoviews`` and we will import it as ``gv``."
   ]
  },
  {
   "cell_type": "code",
   "execution_count": null,
   "metadata": {
    "collapsed": false,
    "scrolled": true
   },
   "outputs": [],
   "source": [
    "import iris\n",
    "import numpy as np\n",
    "import holoviews as hv\n",
    "import geoviews as gv\n",
    "from cartopy import crs\n",
    "from cartopy import feature as cf\n",
    "\n",
    "hv.notebook_extension()"
   ]
  },
  {
   "cell_type": "markdown",
   "metadata": {},
   "source": [
    "# Plotting with projections"
   ]
  },
  {
   "cell_type": "markdown",
   "metadata": {},
   "source": [
    "The ``geoviews`` package provides a library of Element types which make itvery easy to plot data on various geographic projections. Depending on the type of data the plotting code will automatically infer the correct ``transform`` and a default ``projection``.\n",
    "\n",
    "A simple example is the ``Feature`` Element, which accepts various cartopy features. We can easily overlay these features by constructing an ``Overlay`` of Feature elements."
   ]
  },
  {
   "cell_type": "code",
   "execution_count": null,
   "metadata": {
    "collapsed": false
   },
   "outputs": [],
   "source": [
    "%%output size=400\n",
    "feats = [cf.LAND, cf.OCEAN, cf.RIVERS, cf.LAKES, cf.BORDERS, cf.COASTLINE]\n",
    "features = hv.Overlay([gv.Feature(feature) for feature in feats])\n",
    "features"
   ]
  },
  {
   "cell_type": "markdown",
   "metadata": {},
   "source": [
    "Below is the full list of cartopy projections that can be displayed using matplotlib."
   ]
  },
  {
   "cell_type": "code",
   "execution_count": null,
   "metadata": {
    "collapsed": false
   },
   "outputs": [],
   "source": [
    "projections = [crs.RotatedPole, crs.TransverseMercator, crs.Mercator, crs.LambertCylindrical,\n",
    "               crs.Geostationary, crs.AzimuthalEquidistant, crs.OSGB, crs.EuroPP, crs.Gnomonic,\n",
    "               crs.PlateCarree, crs.Mollweide, crs.OSNI, crs.Miller, crs.InterruptedGoodeHomolosine,\n",
    "               crs.LambertConformal, crs.SouthPolarStereo, crs.AlbersEqualArea, crs.Orthographic,\n",
    "               crs.NorthPolarStereo, crs.Robinson, crs.Stereographic]"
   ]
  },
  {
   "cell_type": "markdown",
   "metadata": {},
   "source": [
    "We can test the different projections by creating a Layout of ``Feature`` elements, each with a different projection:"
   ]
  },
  {
   "cell_type": "code",
   "execution_count": null,
   "metadata": {
    "collapsed": false,
    "scrolled": false
   },
   "outputs": [],
   "source": [
    "hv.Layout([gv.Feature(cf.COASTLINE, group=p.__name__)(plot=dict(projection=p()))\n",
    "           for p in projections]).display('all')"
   ]
  },
  {
   "cell_type": "markdown",
   "metadata": {},
   "source": [
    "To change the projection we can use the call method on HoloViews objects and set it as a plot option, this way we can easily compose plots with different projections. Here we compose a StockImage using the Mollweide projection with an Overlay of a StockImage and Coastlines Element set to a GeoStationary projection."
   ]
  },
  {
   "cell_type": "code",
   "execution_count": null,
   "metadata": {
    "collapsed": true
   },
   "outputs": [],
   "source": [
    "%output size=250"
   ]
  },
  {
   "cell_type": "code",
   "execution_count": null,
   "metadata": {
    "collapsed": false
   },
   "outputs": [],
   "source": [
    "(features(plot=dict(projection=crs.Mollweide())) +\n",
    "features.relabel(group='Geostationary Overlay')(plot=dict(projection=crs.Geostationary())))"
   ]
  },
  {
   "cell_type": "markdown",
   "metadata": {},
   "source": [
    "This way we can also use different Element types such as this ``WMTS`` Element, which allows wrapping any webmap tilesource:"
   ]
  },
  {
   "cell_type": "code",
   "execution_count": null,
   "metadata": {
    "collapsed": false
   },
   "outputs": [],
   "source": [
    "%%output backend='matplotlib:nbagg' widgets='live' size=200\n",
    "url = 'http://map1c.vis.earthdata.nasa.gov/wmts-geo/wmts.cgi'\n",
    "layer = 'VIIRS_CityLights_2012'\n",
    "gv.WMTS(url, layer=layer)(plot=dict(projection=crs.PlateCarree()))"
   ]
  },
  {
   "cell_type": "markdown",
   "metadata": {},
   "source": [
    "In some cases the data does not define the coordinate system the data is in automatically, e.g. when using points. In this case we can supply a coordinate reference system directly. Here we display a Tiles object drawn from the MapQuest ordinance survey map of Great Britain, and overlay this tile source with points corresponding to the tube map locations. Since these coordinates are in Ordinance Survery GB coordinates we declare that explicitly via the crs parameter on the GeoPoints."
   ]
  },
  {
   "cell_type": "code",
   "execution_count": null,
   "metadata": {
    "collapsed": false
   },
   "outputs": [],
   "source": [
    "%%output size=200\n",
    "%%opts Overlay [apply_extents=True]\n",
    "from cartopy.io.img_tiles import MapQuestOSM\n",
    "from matplotlib.path import Path\n",
    "\n",
    "def tube_locations():\n",
    "    \"\"\"\n",
    "    Returns an (n, 2) array of selected London Tube locations in Ordnance\n",
    "    Survey GB coordinates.\n",
    "\n",
    "    Source: http://www.doogal.co.uk/london_stations.php\n",
    "\n",
    "    \"\"\"\n",
    "    return np.array([[531738., 180890.], [532379., 179734.],\n",
    "                     [531096., 181642.], [530234., 180492.],\n",
    "                     [531688., 181150.], [530242., 180982.],\n",
    "                     [531940., 179144.], [530406., 180380.],\n",
    "                     [529012., 180283.], [530553., 181488.],\n",
    "                     [531165., 179489.], [529987., 180812.],\n",
    "                     [532347., 180962.], [529102., 181227.],\n",
    "                     [529612., 180625.], [531566., 180025.],\n",
    "                     [529629., 179503.], [532105., 181261.],\n",
    "                     [530995., 180810.], [529774., 181354.],\n",
    "                     [528941., 179131.], [531050., 179933.],\n",
    "                     [530240., 179718.]])\n",
    "\n",
    "theta = np.linspace(0, 2 * np.pi, 100)\n",
    "circle_verts = np.vstack([np.sin(theta), np.cos(theta)]).T\n",
    "concentric_circle = Path.make_compound_path(Path(circle_verts[::-1]),\n",
    "                                            Path(circle_verts * 0.6))\n",
    "\n",
    "rectangle = Path([[-1.1, -0.2], [1, -0.2], [1, 0.3], [-1.1, 0.3]])\n",
    "\n",
    "tiles = MapQuestOSM()\n",
    "gv.Tiles(tiles)(plot=dict(projection=tiles.crs, zoom=14)) *\\\n",
    "gv.Points(tube_locations(), crs=crs.OSGB())(style=dict(color='r', s=100, marker=concentric_circle)) *\\\n",
    "gv.Points(tube_locations(), crs=crs.OSGB())(style=dict(color='b', s=100, marker=rectangle))"
   ]
  },
  {
   "cell_type": "markdown",
   "metadata": {},
   "source": [
    "# Loading and displaying data"
   ]
  },
  {
   "cell_type": "markdown",
   "metadata": {},
   "source": [
    "Now we will load some real data using from the Iris sample datasets:"
   ]
  },
  {
   "cell_type": "code",
   "execution_count": null,
   "metadata": {
    "collapsed": false
   },
   "outputs": [],
   "source": [
    "import numpy as np\n",
    "import iris.coords\n",
    "\n",
    "def realization_metadata(cube, field, fname):\n",
    "    if not cube.coords('realization'):\n",
    "        realization_number = fname[-6:-3]\n",
    "        realization_coord = iris.coords.AuxCoord(np.int32(realization_number), 'realization')\n",
    "        cube.add_aux_coord(realization_coord)\n",
    "\n",
    "surface_temp = iris.load_cube(iris.sample_data_path('GloSea4', 'ensemble_???.pp'),\n",
    "              iris.Constraint('surface_temperature', realization=lambda value: True),\n",
    "              callback=realization_metadata)"
   ]
  },
  {
   "cell_type": "markdown",
   "metadata": {},
   "source": [
    "The Cube Element defined above wraps the Iris Cubes, converting coordinates to HoloViews dimensions and tries to infer the correct order of dimensions:"
   ]
  },
  {
   "cell_type": "code",
   "execution_count": null,
   "metadata": {
    "collapsed": false
   },
   "outputs": [],
   "source": [
    "cube = hv.Dataset(surface_temp)\n",
    "cube"
   ]
  },
  {
   "cell_type": "markdown",
   "metadata": {},
   "source": [
    "We'll come back to the Cube Element later for now we will slice this cube up manually. By taking slices along latitude and longitude we can slice the data up into 2D chunks and wrap them in ``GeoImage`` a subclass of ``Cube`` which can be visualized. We place these object into a HoloMap with the remaining dimensions ``time`` and ``realization`` as key dimensions."
   ]
  },
  {
   "cell_type": "code",
   "execution_count": null,
   "metadata": {
    "collapsed": false
   },
   "outputs": [],
   "source": [
    "kdims = ['time', 'realization']\n",
    "img_hmap = hv.HoloMap(kdims=kdims)\n",
    "for cb in surface_temp.slices(['longitude', 'latitude']):\n",
    "    key = tuple(cb.coord(kd).points[0] for kd in kdims)\n",
    "    img_hmap[key] = gv.Image(cb)"
   ]
  },
  {
   "cell_type": "markdown",
   "metadata": {},
   "source": [
    "The HoloMap can summarize the contained data:"
   ]
  },
  {
   "cell_type": "code",
   "execution_count": null,
   "metadata": {
    "collapsed": false
   },
   "outputs": [],
   "source": [
    "img_hmap.info"
   ]
  },
  {
   "cell_type": "markdown",
   "metadata": {},
   "source": [
    "A convenient way of accessing a single Element in a HoloMap is the .last attribute. Now that we have a handle on it we can customize it a number of ways using the call method as above or using the options magic:"
   ]
  },
  {
   "cell_type": "code",
   "execution_count": null,
   "metadata": {
    "collapsed": false
   },
   "outputs": [],
   "source": [
    "%opts Image [colorbar=True projection=crs.Geostationary()] (cmap='viridis')\n",
    "img_hmap.last * gv.Feature(cf.COASTLINE)"
   ]
  },
  {
   "cell_type": "markdown",
   "metadata": {},
   "source": [
    "## Groupby and conversions"
   ]
  },
  {
   "cell_type": "markdown",
   "metadata": {},
   "source": [
    "</br>\n",
    "<div class=\"alert alert-warning\" role=\"alert\">\n",
    "  <strong>Warning!</strong> At this point it's important to point out that a HoloMap renders all available frames by default, therefore we'll set the widgets output to ``live``, which means that updating is linked to the live server. If you want to embed the output into the notebook remove this line or set it to ``embed`` explicitly.\n",
    "</div>"
   ]
  },
  {
   "cell_type": "code",
   "execution_count": null,
   "metadata": {
    "collapsed": true
   },
   "outputs": [],
   "source": [
    "%output widgets='live' size=300"
   ]
  },
  {
   "cell_type": "markdown",
   "metadata": {},
   "source": [
    "Slicing a Cube up in the way we saw before is often very useful but it's also a little bit of effort. To make this easier HoloViews interfaces usually implement a ``groupby`` method. Here we show how to achieve the same thing as above but using ``groupby`` instead. We may add another clearer interface eventually but ``groupby`` will provide the low level API for any such conversion interface.\n",
    "\n",
    "If we group the cube by realization and time we are left with a bunch of 2D slices of latitude and longitude, by supplying a ``group_type`` we wrap each of the sliced 2D cubes in an Image."
   ]
  },
  {
   "cell_type": "code",
   "execution_count": null,
   "metadata": {
    "collapsed": false
   },
   "outputs": [],
   "source": [
    "%%opts GeoImage [colorbar=True] (cmap='viridis')\n",
    "(cube.groupby(['time', 'realization'], group_type=gv.Image) * gv.Feature(cf.COASTLINE))"
   ]
  },
  {
   "cell_type": "markdown",
   "metadata": {},
   "source": [
    "As you can see it has automatically converted the cube to an widget allowing you to explore this space. We can repeat the same groupby operation this time with a ``FilledContours`` Element as the ``group_type``."
   ]
  },
  {
   "cell_type": "code",
   "execution_count": null,
   "metadata": {
    "collapsed": false
   },
   "outputs": [],
   "source": [
    "%%opts FilledContours (cmap='viridis')\n",
    "(cube.groupby(['time', 'realization'], group_type=gv.FilledContours) * gv.Feature(cf.COASTLINE))"
   ]
  },
  {
   "cell_type": "markdown",
   "metadata": {},
   "source": [
    "# Working with non-geographic Element types\n",
    "\n",
    "iris Cubes can also be used as the data source for regular Element types, however unlike their geoviews counterparts they won't know anything about the geographic projections of the data. \n",
    "\n",
    "As the most basic example we can use the conversion interface to display a widget for each time and realization, but this time we declare just the key dimension of the points object letting the interface infer the value and HoloMap dimensions:"
   ]
  },
  {
   "cell_type": "code",
   "execution_count": null,
   "metadata": {
    "collapsed": false
   },
   "outputs": [],
   "source": [
    "%%opts Points [color_index=2 size_index=None]\n",
    "cube.to.points(['longitude', 'latitude'])"
   ]
  },
  {
   "cell_type": "markdown",
   "metadata": {},
   "source": [
    "We can also collapse specific dimensions on the iris Cube first and then view the reduced Cube using regular HoloViews Element types. Here we collapse the longitude and latitude dimensions on the iris Cube by taking the weighted mean, wrap it in a Dataset and then view the mean surface temperature for each realization and ``overlay`` the curves."
   ]
  },
  {
   "cell_type": "code",
   "execution_count": null,
   "metadata": {
    "collapsed": true
   },
   "outputs": [],
   "source": [
    "%%opts Curve [aspect=2 xticks=4 ] (linestyle='--') NdOverlay [aspect=2 legend_position='right']\n",
    "if cube.data.coord('latitude').bounds is None:\n",
    "    cube.data.coord('latitude').guess_bounds()\n",
    "if cube.data.coord('longitude').bounds is None:\n",
    "    cube.data.coord('longitude').guess_bounds()\n",
    "grid_weights = iris.analysis.cartography.area_weights(cube.data)\n",
    "collapsed_cube = cube.data.collapsed(['longitude', 'latitude'], iris.analysis.MEAN, weights=grid_weights)\n",
    "hv.Dataset(collapsed_cube).to.curve(['time']).overlay()"
   ]
  },
  {
   "cell_type": "markdown",
   "metadata": {},
   "source": [
    "Similarly we can collapse the forecast period, leaving just latitude and longitude coordinates and then view slices along each longitude:"
   ]
  },
  {
   "cell_type": "code",
   "execution_count": null,
   "metadata": {
    "collapsed": false
   },
   "outputs": [],
   "source": [
    "%%opts Curve [aspect=3 xticks=10]\n",
    "collapsed_cube = cube.data.collapsed('forecast_period', iris.analysis.MEAN)\n",
    "hv.Dataset(collapsed_cube).to.curve(['latitude'])"
   ]
  },
  {
   "cell_type": "markdown",
   "metadata": {},
   "source": [
    "This notebook has outlined a basic API to explore cube datasets using HoloViews. While quite a bit works already there are a large number of issues to still be sorted out:\n",
    "\n",
    "* Dates should be formatted correctly in the slider\n",
    "* Decide on the API of the Cube Elements:\n",
    "  - How should slicing semantics behave?\n",
    "  - Should aggregation/reduce and sample operations be exposed?\n",
    "* Updating of plots currently reinstantiates artist each time, considerable speedup could be achieved if artists could be updated directly. [Existing issue](https://github.com/SciTools/cartopy/issues/233) on cartopy suggests implementing this for pcolormesh already."
   ]
  }
 ],
 "metadata": {
  "environment": {
   "dependencies": [
    "appnope=0.1.0=py27_0",
    "backports_abc=0.4=py27_0",
    "biggus=0.13.0=py27_0",
    "cartopy=0.13.1=np110py27_0",
    "cf_units=1.1=py27_0",
    "curl=7.43.0=1",
    "cycler=0.9.0=py27_0",
    "decorator=4.0.6=py27_0",
    "ecmwf_grib=1.14.2=np110py27_0",
    "freetype=2.5.5=0",
    "funcsigs=0.4=py27_0",
    "geos=3.4.2=4",
    "hdf5=1.8.15.1=2",
    "ipykernel=4.2.2=py27_0",
    "ipython=4.1.1=py27_0",
    "ipython_genutils=0.1.0=py27_0",
    "ipywidgets=4.1.1=py27_0",
    "jasper=1.900.1=5",
    "jbig=2.1=0",
    "jinja2=2.8=py27_0",
    "jpeg=8d=1",
    "jsonschema=2.4.0=py27_0",
    "jupyter=1.0.0=py27_1",
    "jupyter_client=4.1.1=py27_0",
    "jupyter_console=4.1.0=py27_0",
    "jupyter_core=4.0.6=py27_0",
    "krb5=1.13.2=0",
    "libmo_unpack=3.0=3",
    "libnetcdf=4.3.3.1=1",
    "libpng=1.6.17=0",
    "libtiff=4.0.6=1",
    "libxml2=2.9.2=0",
    "libxslt=1.1.28=2",
    "lxml=3.5.0=py27_0",
    "markupsafe=0.23=py27_0",
    "matplotlib=1.5.1=np110py27_0",
    "mistune=0.7.1=py27_0",
    "mkl=11.3.1=0",
    "mock=1.3.0=py27_0",
    "nbconvert=4.1.0=py27_0",
    "nbformat=4.0.1=py27_0",
    "netcdf4=1.2.2=np110py27_0",
    "nose=1.3.7=py27_0",
    "notebook=4.1.0=py27_0",
    "numpy=1.10.4=py27_0",
    "openssl=1.0.1k=1",
    "owslib=0.10.3=py27_0",
    "path.py=8.1.2=py27_1",
    "pbr=1.3.0=py27_0",
    "pexpect=3.3=py27_0",
    "pickleshare=0.5=py27_0",
    "pillow=3.1.1=py27_0",
    "pip=8.0.2=py27_0",
    "proj.4=4.9.1=1",
    "ptyprocess=0.5=py27_0",
    "pyepsg=0.2.0=py27_0",
    "pygments=2.1=py27_0",
    "pyke=1.1.1=py27_2",
    "pyparsing=2.0.3=py27_0",
    "pyproj=1.9.4=py27_1",
    "pyqt=4.11.4=py27_1",
    "pyshp=1.2.3=py27_0",
    "python=2.7.10=1",
    "python-dateutil=2.4.2=py27_0",
    "python.app=1.2=py27_4",
    "pytz=2015.7=py27_0",
    "pyzmq=15.2.0=py27_0",
    "qt=4.8.7=1",
    "qtconsole=4.1.1=py27_0",
    "readline=6.2=2",
    "requests=2.9.1=py27_0",
    "scipy=0.17.0=np110py27_0",
    "setuptools=19.6.2=py27_0",
    "shapely=1.5.13=np110py27_1",
    "simplegeneric=0.8.1=py27_0",
    "singledispatch=3.4.0.3=py27_0",
    "sip=4.16.9=py27_0",
    "six=1.10.0=py27_0",
    "sqlite=3.9.2=0",
    "ssl_match_hostname=3.4.0.2=py27_0",
    "terminado=0.5=py27_1",
    "tk=8.5.18=0",
    "tornado=4.3=py27_0",
    "traitlets=4.1.0=py27_0",
    "udunits2=2.2.20=0",
    "wheel=0.29.0=py27_0",
    "xz=5.0.5=1",
    "zlib=1.2.8=0",
    {
     "pip": [
      "backports-abc==0.4",
      "backports.ssl-match-hostname==3.4.0.2",
      "cf-units==1.1",
      "holoviews (/Users/prudiger/topographica/external/holoviews)==1.4.3",
      "ipython-genutils==0.1.0",
      "iris (/Users/prudiger/iris/lib)==1.10.0.dev0",
      "jupyter-client==4.1.1",
      "jupyter-console==4.1.0",
      "jupyter-core==4.0.6",
      "param==1.3.2"
     ]
    }
   ],
   "name": "metoffice"
  },
  "hide_input": false,
  "kernelspec": {
   "display_name": "Python 2",
   "language": "python",
   "name": "python2"
  },
  "language_info": {
   "codemirror_mode": {
    "name": "ipython",
    "version": 2
   },
   "file_extension": ".py",
   "mimetype": "text/x-python",
   "name": "python",
   "nbconvert_exporter": "python",
   "pygments_lexer": "ipython2",
   "version": "2.7.11"
  }
 },
 "nbformat": 4,
 "nbformat_minor": 0
}
