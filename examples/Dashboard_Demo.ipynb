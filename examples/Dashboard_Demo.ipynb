{
 "cells": [
  {
   "cell_type": "code",
   "execution_count": null,
   "metadata": {
    "urth": {
     "dashboard": {
      "hidden": true
     }
    }
   },
   "outputs": [],
   "source": [
    "import iris\n",
    "import param\n",
    "import holoviews as hv\n",
    "import geoviews as gv\n",
    "\n",
    "from cartopy import feature as cf\n",
    "from paramnb import Widgets\n",
    "\n",
    "hv.notebook_extension(width=90)\n",
    "%output widgets='live' size=400\n",
    "%opts Image {+framewise} [colorbar=True] Contours {+framewise}"
   ]
  },
  {
   "cell_type": "markdown",
   "metadata": {
    "urth": {
     "dashboard": {
      "hidden": true
     }
    }
   },
   "source": [
    "Declaring a set of widgets using paramNB is as simply as declaring a Parameterized class. Here we declare a ``CubeLoader`` class with a ``FileSelector`` parameter, a cache and a load method, which will load cubes from a file on disk. The ``Widgets`` function accepts the ``CubeLoader`` instance and generates a dropdown widget for the ``cube_path`` from it. By declaring a callback we can tell it to load the file from disk (or the cache) whenever the user executes the widget and ``next_n=1`` will ensure the next cell is run whenever the value changes:"
   ]
  },
  {
   "cell_type": "code",
   "execution_count": null,
   "metadata": {
    "urth": {
     "dashboard": {
      "layout": {
       "col": 0,
       "height": 4,
       "row": 0,
       "width": 4
      }
     }
    }
   },
   "outputs": [],
   "source": [
    "class CubeLoader(param.Parameterized):\n",
    "    \n",
    "    cube_path = param.FileSelector(path='./files/*')\n",
    "\n",
    "    cache = {}\n",
    "    cubes = None\n",
    "    \n",
    "    @classmethod\n",
    "    def load(cls, cube_path):\n",
    "        if cls.cube_path not in cls.cache:\n",
    "            cubelist = iris.load(cls.cube_path)\n",
    "            for c in cubelist:\n",
    "                c.coord('grid_longitude').guess_bounds()\n",
    "                c.coord('grid_latitude').guess_bounds()\n",
    "            cls.cache[cls.cube_path] = cubelist\n",
    "        else:\n",
    "            cubelist = cls.cache[cls.cube_path]\n",
    "        cubes = {cb.vdims[0].name:cb for cb in [hv.Dataset(c) for c in cubelist]} # Load cubes into dictionary\n",
    "        cls.cubes = {k:v for k,v in cubes.items() if k!='unknown'}  # Filter as desired\n",
    "\n",
    "Widgets(CubeLoader, next_n=1, callback=CubeLoader.load)"
   ]
  },
  {
   "cell_type": "code",
   "execution_count": null,
   "metadata": {
    "urth": {
     "dashboard": {
      "layout": {
       "col": 4,
       "height": 7,
       "row": 0,
       "width": 3
      }
     }
    }
   },
   "outputs": [],
   "source": [
    "from cartopy import crs as ccrs\n",
    "from matplotlib.cm import cmap_d\n",
    "\n",
    "projections = {k: crs for k, crs in param.concrete_descendents(ccrs.CRS).items()\n",
    "               if hasattr(crs, '_as_mpl_axes') and not k[0] == '_'}\n",
    "\n",
    "class CubeBrowser(param.Parameterized):\n",
    "    \"\"\"\n",
    "    CubeBrowser defines a small example GUI to demonstrate\n",
    "    how to define a small set of widgets to control plotting\n",
    "    of an iris Cube. It exposes control over the colormap,\n",
    "    the quantity to be plotted, the element to plot it with\n",
    "    and the projection to plot it on.\n",
    "    \"\"\"\n",
    "\n",
    "    cmap = param.ObjectSelector(default='viridis',\n",
    "                                objects=list(cmap_d.keys()))\n",
    "\n",
    "    quantity = param.ObjectSelector(default=list(CubeLoader.cubes.keys())[0],\n",
    "                                    objects=list(CubeLoader.cubes.keys()))\n",
    "\n",
    "    element = param.ObjectSelector(default=gv.Image,\n",
    "                                   objects=[gv.Image, gv.FilledContours, gv.LineContours])\n",
    "\n",
    "    projection = param.ObjectSelector(default='default',\n",
    "                                      objects=['default']+sorted(projections.keys()))\n",
    "    \n",
    "    cache = {}\n",
    "\n",
    "    @classmethod\n",
    "    def view(cls):\n",
    "        key = (cls.quantity, cls.element)\n",
    "        if key in CubeBrowser.cache:\n",
    "            converted = cls.cache[key]\n",
    "        else:\n",
    "            holocube = CubeLoader.cubes[cls.quantity]\n",
    "            converted = holocube.to(cls.element, ['grid_longitude', 'grid_latitude'], dynamic=True)\n",
    "            cls.cache[key] = converted\n",
    "        styled = converted(style={cls.element.name: dict(cmap=cls.cmap)})\n",
    "        projection = projections[cls.projection]() if cls.projection != 'default' else None\n",
    "        projected = styled({'Image': dict(plot=dict(projection=projection))}) if projection else styled\n",
    "        return (projected * gv.Feature(cf.COASTLINE)(plot=dict(scale='50m')))\n",
    "\n",
    "Widgets(CubeBrowser, next_n=1)"
   ]
  },
  {
   "cell_type": "code",
   "execution_count": null,
   "metadata": {
    "urth": {
     "dashboard": {
      "layout": {
       "col": 0,
       "height": 36,
       "row": 7,
       "width": 12
      }
     }
    }
   },
   "outputs": [],
   "source": [
    "# Finally we can declare a cell which uses the settings defined via the widgets to render the requested plot.\n",
    "# We simply look up the correct cube, convert it to the desired Element type and then display it with the requested options.\n",
    "CubeBrowser.view()"
   ]
  }
 ],
 "metadata": {
  "environment": {
   "dependencies": [
    "appnope=0.1.0=py27_0",
    "backports=1.0=py27_0",
    "backports_abc=0.4=py27_0",
    "biggus=0.13.0=py27_0",
    "cartopy=0.13.1=np110py27_0",
    "cf_units=1.1=py27_0",
    "configparser=3.5.0b2=py27_1",
    "curl=7.45.0=0",
    "cycler=0.10.0=py27_0",
    "cython=0.24=py27_0",
    "decorator=4.0.9=py27_0",
    "ecmwf_grib=1.14.2=np110py27_0",
    "entrypoints=0.2=py27_1",
    "freetype=2.5.5=0",
    "funcsigs=1.0.0=py27_0",
    "geos=3.4.2=4",
    "hdf5=1.8.15.1=2",
    "ipykernel=4.3.1=py27_0",
    "ipython=4.1.2=py27_2",
    "ipython_genutils=0.1.0=py27_0",
    "ipywidgets=4.1.1=py27_0",
    "iris=1.9.2=np110_0",
    "jasper=1.900.1=5",
    "jbig=2.1=0",
    "jinja2=2.8=py27_0",
    "jpeg=8d=1",
    "jsonschema=2.4.0=py27_0",
    "jupyter=1.0.0=py27_2",
    "jupyter_client=4.2.2=py27_0",
    "jupyter_console=4.1.1=py27_0",
    "jupyter_core=4.1.0=py27_0",
    "libmo_unpack=3.0=3",
    "libnetcdf=4.3.3.1=3",
    "libpng=1.6.17=0",
    "libtiff=4.0.6=1",
    "libxml2=2.9.2=0",
    "libxslt=1.1.28=2",
    "lxml=3.6.0=py27_0",
    "markupsafe=0.23=py27_0",
    "matplotlib=1.5.1=np110py27_0",
    "mistune=0.7.2=py27_1",
    "mkl=11.3.1=0",
    "mo_pack=0.2.0=np110py27_1",
    "mock=2.0.0=py27_0",
    "nbconvert=4.2.0=py27_0",
    "nbformat=4.0.1=py27_0",
    "netcdf4=1.2.2=np110py27_0",
    "nose=1.3.7=py27_0",
    "notebook=4.1.0=py27_2",
    "numpy=1.10.4=py27_0",
    "openssl=1.0.2g=0",
    "owslib=0.10.3=py27_0",
    "pandas=0.18.0=np111py27_0",
    "path.py=8.2=py27_0",
    "pbr=1.8.0=py27_0",
    "pexpect=4.0.1=py27_0",
    "pickleshare=0.5=py27_0",
    "pillow=3.2.0=py27_0",
    "pip=8.1.1=py27_1",
    "proj.4=4.9.1=1",
    "ptyprocess=0.5=py27_0",
    "pyepsg=0.2.0=py27_0",
    "pygments=2.1.3=py27_0",
    "pyke=1.1.1=py27_2",
    "pyparsing=2.0.3=py27_0",
    "pyproj=1.9.4=py27_1",
    "pyqt=4.11.4=py27_1",
    "pyshp=1.2.3=py27_0",
    "python=2.7.11=0",
    "python-dateutil=2.5.2=py27_0",
    "pytz=2016.3=py27_0",
    "pyzmq=15.2.0=py27_0",
    "qt=4.8.7=1",
    "qtconsole=4.2.1=py27_0",
    "readline=6.2=2",
    "requests=2.9.1=py27_0",
    "scipy=0.17.0=np110py27_0",
    "setuptools=20.6.7=py27_0",
    "shapely=1.5.13=np110py27_1",
    "simplegeneric=0.8.1=py27_0",
    "singledispatch=3.4.0.3=py27_0",
    "sip=4.16.9=py27_0",
    "six=1.10.0=py27_0",
    "sqlite=3.9.2=0",
    "ssl_match_hostname=3.4.0.2=py27_1",
    "terminado=0.5=py27_1",
    "tk=8.5.18=0",
    "tornado=4.3=py27_0",
    "traitlets=4.2.1=py27_0",
    "udunits2=2.2.20=0",
    "wheel=0.29.0=py27_0",
    "xz=5.0.5=1",
    "zlib=1.2.8=0",
    {
     "pip": [
      "backports-abc==0.4",
      "backports.ssl-match-hostname==3.4.0.2",
      "cartopy (/Users/philippjfr/cartopy/lib)==0.14.0",
      "cf-units==1.1",
      "holocube (/Users/philippjfr/cube-explorer)==0.0.1",
      "holoviews==1.4.3",
      "ipython-genutils==0.1.0",
      "iris (/Users/philippjfr/iris/lib)==1.10.0.dev0",
      "jupyter-client==4.2.2",
      "jupyter-console==4.1.1",
      "jupyter-core==4.1.0",
      "lancet-ioam==0.9.0",
      "mo-pack==0.2.0",
      "param==1.3.2",
      "paramnb (/Users/philippjfr/paramnb)==0.0.1"
     ]
    }
   ],
   "name": "metoffice"
  },
  "hide_input": false,
  "kernelspec": {
   "display_name": "Python 3",
   "language": "python",
   "name": "python3"
  },
  "urth": {
   "dashboard": {
    "cellMargin": 10,
    "defaultCellHeight": 20,
    "layoutStrategy": "packed",
    "maxColumns": 12
   }
  }
 },
 "nbformat": 4,
 "nbformat_minor": 1
}
