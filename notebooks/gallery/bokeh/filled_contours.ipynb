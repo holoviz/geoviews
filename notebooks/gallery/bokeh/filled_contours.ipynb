{
 "cells": [
  {
   "cell_type": "code",
   "execution_count": null,
   "metadata": {},
   "outputs": [],
   "source": [
    "import numpy as np\n",
    "import holoviews as hv\n",
    "import geoviews as gv\n",
    "import geoviews.feature as gf\n",
    "import cartopy.crs as ccrs\n",
    "\n",
    "hv.extension('bokeh')"
   ]
  },
  {
   "cell_type": "markdown",
   "metadata": {},
   "source": [
    "## Define data"
   ]
  },
  {
   "cell_type": "code",
   "execution_count": null,
   "metadata": {},
   "outputs": [],
   "source": [
    "def sample_data(shape=(73, 145)):\n",
    "    \"\"\"Returns ``lons``, ``lats`` and ``data`` of some fake data.\"\"\"\n",
    "    nlats, nlons = shape\n",
    "    ys = np.linspace(-np.pi / 2, np.pi / 2, nlats)\n",
    "    xs = np.linspace(-np.pi, np.pi, nlons)\n",
    "    lons, lats = np.meshgrid(xs, ys)\n",
    "    wave = 0.75 * (np.sin(2 * lats) ** 8) * np.cos(4 * lons)\n",
    "    mean = 0.5 * np.cos(2 * lats) * ((np.sin(2 * lats)) ** 2 + 2)\n",
    "\n",
    "    lats = np.rad2deg(ys)\n",
    "    lons = np.rad2deg(xs)\n",
    "    data = wave + mean\n",
    "\n",
    "    return lons, lats, data\n",
    "\n",
    "lons, lats, data = sample_data()\n",
    "contours = hv.operation.contours(gv.Image((lons, lats, data)),\n",
    "                                 filled=True, levels=8).redim.range(z=(-1.4, 1.4))"
   ]
  },
  {
   "cell_type": "markdown",
   "metadata": {},
   "source": [
    "## Plot"
   ]
  },
  {
   "cell_type": "code",
   "execution_count": null,
   "metadata": {},
   "outputs": [],
   "source": [
    "%%opts Polygons [colorbar=True width=600 height=400 color_levels=12] (alpha=0.8 cmap='nipy_spectral') \n",
    "contours * gf.coastline"
   ]
  }
 ],
 "metadata": {
  "kernelspec": {
   "display_name": "Python 3",
   "language": "python",
   "name": "python3"
  },
  "language_info": {
   "codemirror_mode": {
    "name": "ipython",
    "version": 3
   },
   "file_extension": ".py",
   "mimetype": "text/x-python",
   "name": "python",
   "nbconvert_exporter": "python",
   "pygments_lexer": "ipython3",
   "version": "3.6.4"
  }
 },
 "nbformat": 4,
 "nbformat_minor": 2
}
